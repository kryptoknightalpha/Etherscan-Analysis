{
 "cells": [
  {
   "attachments": {},
   "cell_type": "markdown",
   "metadata": {},
   "source": [
    " Another script that via Dexscreener or Etherscan can show me who the top sellers/buyers were of a certain contract, how much they sold and bought and how much they still have left. Another feature would be to show me how many people got in at which price levels. \n"
   ]
  },
  {
   "cell_type": "code",
   "execution_count": 1,
   "metadata": {},
   "outputs": [
    {
     "name": "stdout",
     "output_type": "stream",
     "text": [
      "Top 10 sellers of 0xa0bEd124a09ac2Bd941b10349d8d224fe3c955eb:\n",
      "0xa0bEd124a09ac2Bd941b10349d8d224fe3c955eb - 0\n",
      "\n",
      "Top 10 buyers of 0xa0bEd124a09ac2Bd941b10349d8d224fe3c955eb:\n",
      "0xa0bEd124a09ac2Bd941b10349d8d224fe3c955eb - 0\n"
     ]
    }
   ],
   "source": [
    "import requests\n",
    "\n",
    "# Set the contract address and number of top sellers/buyers to show\n",
    "contract_address = '0xa0bEd124a09ac2Bd941b10349d8d224fe3c955eb'\n",
    "num_top = 10\n",
    "\n",
    "# Construct the URL for the contract data on Etherscan\n",
    "contract_url = f'https://api.etherscan.io/api?module=account&action=balancemulti&address={contract_address}'\n",
    "\n",
    "# Collect data on the top sellers and buyers of the contract\n",
    "contract_data = requests.get(contract_url).json()['result']\n",
    "if isinstance(contract_data, dict):\n",
    "    contract_data = [contract_data]\n",
    "top_sellers = sorted(contract_data, key=lambda x: float(x.get('balance', '0')), reverse=True)[:num_top]\n",
    "top_buyers = sorted(contract_data, key=lambda x: float(x.get('balance', '0')))[:num_top]\n",
    "\n",
    "# Print the top sellers and buyers\n",
    "print(f'Top {num_top} sellers of {contract_address}:')\n",
    "for seller in top_sellers:\n",
    "    print(f\"{seller['account']} - {seller['balance']}\")\n",
    "\n",
    "print(f'\\nTop {num_top} buyers of {contract_address}:')\n",
    "for buyer in top_buyers:\n",
    "    print(f\"{buyer['account']} - {buyer['balance']}\")\n"
   ]
  }
 ],
 "metadata": {
  "kernelspec": {
   "display_name": "Python 3",
   "language": "python",
   "name": "python3"
  },
  "language_info": {
   "codemirror_mode": {
    "name": "ipython",
    "version": 3
   },
   "file_extension": ".py",
   "mimetype": "text/x-python",
   "name": "python",
   "nbconvert_exporter": "python",
   "pygments_lexer": "ipython3",
   "version": "3.11.2"
  },
  "orig_nbformat": 4
 },
 "nbformat": 4,
 "nbformat_minor": 2
}
